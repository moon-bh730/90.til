{
 "cells": [
  {
   "cell_type": "code",
   "execution_count": 1,
   "source": [
    "import pandas as pd\r\n",
    "\r\n",
    "array = pd.Series([\"바나나\", \"수박\", \"복숭아\"], index=[\"a\", \"b\", \"c\"])\r\n",
    "\r\n",
    "print(array)\r\n",
    "print(array[\"a\"])"
   ],
   "outputs": [
    {
     "output_type": "stream",
     "name": "stdout",
     "text": [
      "a    바나나\n",
      "b     수박\n",
      "c    복숭아\n",
      "dtype: object\n",
      "바나나\n"
     ]
    }
   ],
   "metadata": {}
  },
  {
   "cell_type": "code",
   "execution_count": 2,
   "source": [
    "pd.Series(range(10, 14))        #시리즈 자동생성"
   ],
   "outputs": [
    {
     "output_type": "execute_result",
     "data": {
      "text/plain": [
       "0    10\n",
       "1    11\n",
       "2    12\n",
       "3    13\n",
       "dtype: int64"
      ]
     },
     "metadata": {},
     "execution_count": 2
    }
   ],
   "metadata": {}
  },
  {
   "cell_type": "code",
   "execution_count": 5,
   "source": [
    "word_dict = {\r\n",
    "        \"banana\":\"바나나\"\r\n",
    "        ,\"watermelon\":\"수박\"\r\n",
    "        ,\"apple\":\"사과\"        \r\n",
    "}\r\n",
    "\r\n",
    "frequency_dict = {\r\n",
    "        \"banana\":3\r\n",
    "        ,\"watermelon\":7\r\n",
    "        ,\"apple\":2\r\n",
    "}\r\n",
    "\r\n",
    "importance_dic = {\r\n",
    "        \"banana\":10\r\n",
    "        ,\"watermelon\":20\r\n",
    "        ,\"apple\":30\r\n",
    "}\r\n",
    "\r\n",
    "word = pd.Series(word_dict)\r\n",
    "frequency = pd.Series(frequency_dict)\r\n",
    "importance = pd.Series(importance_dic)\r\n",
    "\r\n",
    "summary = pd.DataFrame({\r\n",
    "        \"word\" : word\r\n",
    "        ,\"frequency\": frequency\r\n",
    "        ,\"importance\":importance\r\n",
    "})\r\n",
    "\r\n",
    "score = summary[\"frequency\"] * summary[\"importance\"]\r\n",
    "summary[\"score\"] = score\r\n",
    "\r\n",
    "print(summary)"
   ],
   "outputs": [
    {
     "output_type": "stream",
     "name": "stdout",
     "text": [
      "           word  frequency  importance  score\n",
      "banana      바나나          3          10     30\n",
      "watermelon   수박          7          20    140\n",
      "apple        사과          2          30     60\n"
     ]
    }
   ],
   "metadata": {}
  },
  {
   "cell_type": "code",
   "execution_count": 8,
   "source": [
    "word_dict = {\r\n",
    "        \"banana\":\"바나나\"\r\n",
    "        ,\"watermelon\":\"수박\"\r\n",
    "        ,\"apple\":\"사과\"\r\n",
    "        ,\"Durian\":\"두리안\"    \r\n",
    "}\r\n",
    "\r\n",
    "frequency_dict = {\r\n",
    "        \"banana\":3\r\n",
    "        ,\"watermelon\":7\r\n",
    "        ,\"apple\":2\r\n",
    "        ,\"Durian\":5\r\n",
    "}\r\n",
    "\r\n",
    "importance_dic = {\r\n",
    "        \"banana\":10\r\n",
    "        ,\"watermelon\":20\r\n",
    "        ,\"apple\":30\r\n",
    "        ,\"Durian\":50\r\n",
    "}\r\n",
    "\r\n",
    "word = pd.Series(word_dict)\r\n",
    "frequency = pd.Series(frequency_dict)\r\n",
    "importance = pd.Series(importance_dic)\r\n",
    "\r\n",
    "summary = pd.DataFrame({\r\n",
    "        \"word\" : word\r\n",
    "        ,\"frequency\": frequency\r\n",
    "        ,\"importance\":importance        \r\n",
    "})\r\n",
    "\r\n",
    "print(summary)\r\n",
    "\r\n",
    "# 이름기준 슬라이싱\r\n",
    "print(summary.loc[\"banana\":\"apple\",\"importance\":])\r\n",
    "\r\n",
    "# 인덱스기준 슬라이싱\r\n",
    "print(summary.iloc[1:3, 2:])"
   ],
   "outputs": [
    {
     "output_type": "stream",
     "name": "stdout",
     "text": [
      "           word  frequency  importance\n",
      "banana      바나나          3          10\n",
      "watermelon   수박          7          20\n",
      "apple        사과          2          30\n",
      "Durian      두리안          5          50\n",
      "            importance\n",
      "banana              10\n",
      "watermelon          20\n",
      "apple               30\n",
      "            importance\n",
      "watermelon          20\n",
      "apple               30\n"
     ]
    }
   ],
   "metadata": {}
  },
  {
   "cell_type": "code",
   "execution_count": 14,
   "source": [
    "print(summary)\r\n",
    "\r\n",
    "summary.loc[\"apple\",\"importance\"] = 88\r\n",
    "summary.loc[\"elderberry\"] = [\"엘더베리\", 5, 3]"
   ],
   "outputs": [
    {
     "output_type": "stream",
     "name": "stdout",
     "text": [
      "            word frequency importance\n",
      "banana       바나나         3         10\n",
      "watermelon    수박         7         20\n",
      "apple         사과         2         88\n",
      "Durian       두리안         5         50\n",
      "elderberry  엘더베리         5          3\n"
     ]
    }
   ],
   "metadata": {}
  },
  {
   "cell_type": "code",
   "execution_count": 16,
   "source": [
    "##엑셀로 저장 불러오기\r\n",
    "summary.to_csv(\"summary.csv\",encoding=\"utf-8-sig\")\r\n",
    "saved = pd.read_csv(\"summary.csv\", index_col=0)\r\n",
    "print(saved)"
   ],
   "outputs": [
    {
     "output_type": "stream",
     "name": "stdout",
     "text": [
      "            word  frequency  importance\n",
      "banana       바나나          3          10\n",
      "watermelon    수박          7          20\n",
      "apple         사과          2          88\n",
      "Durian       두리안          5          50\n",
      "elderberry  엘더베리          5           3\n"
     ]
    }
   ],
   "metadata": {}
  }
 ],
 "metadata": {
  "orig_nbformat": 4,
  "language_info": {
   "name": "python",
   "version": "3.8.10",
   "mimetype": "text/x-python",
   "codemirror_mode": {
    "name": "ipython",
    "version": 3
   },
   "pygments_lexer": "ipython3",
   "nbconvert_exporter": "python",
   "file_extension": ".py"
  },
  "kernelspec": {
   "name": "python3",
   "display_name": "Python 3.8.10 64-bit ('btfsop': conda)"
  },
  "interpreter": {
   "hash": "795bef2181d8c1d673d637ebabbfa46c3363c718d3652ae25a9a4fec543c87a1"
  }
 },
 "nbformat": 4,
 "nbformat_minor": 2
}