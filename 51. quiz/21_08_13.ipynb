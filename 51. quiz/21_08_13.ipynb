{
 "cells": [
  {
   "cell_type": "markdown",
   "source": [
    "문제\r\n",
    "    - 두 정수 A와 B를 입력받은 다음, A+B를 출력하는 프로그램을 작성하시오.\r\n",
    "\r\n",
    "입력\r\n",
    "    - 첫째 줄에 A와 B가 주어진다. (0 < A, B < 10)\r\n",
    "\r\n",
    "출력\r\n",
    "    - 첫째 줄에 A+B를 출력한다."
   ],
   "metadata": {}
  },
  {
   "cell_type": "code",
   "execution_count": null,
   "source": [
    "# 1. 입력받기\r\n",
    "# 2. 입력 받은것의 검증\r\n",
    "# 3. 오류처리\r\n",
    "# 4. 계산\r\n",
    "# 5. 출력\r\n",
    "\r\n"
   ],
   "outputs": [],
   "metadata": {}
  },
  {
   "cell_type": "code",
   "execution_count": 5,
   "source": [
    "# 일단 아는것으로 빨리구현\r\n",
    "a = int(input())\r\n",
    "b = int(input())\r\n",
    "\r\n",
    "print(a+b)"
   ],
   "outputs": [
    {
     "output_type": "stream",
     "name": "stdout",
     "text": [
      "5\n"
     ]
    }
   ],
   "metadata": {}
  },
  {
   "cell_type": "code",
   "execution_count": 8,
   "source": [
    "# 사용자 편의성 추가\r\n",
    "a = int(input(\"입력 a > \"))\r\n",
    "b = int(input(\"입력 b > \"))\r\n",
    "\r\n",
    "print(\"{}, {} 두 수의 합 = {}\".format(a, b, a+b))"
   ],
   "outputs": [
    {
     "output_type": "stream",
     "name": "stdout",
     "text": [
      "7와 9 두 수의 합 = 16\n"
     ]
    }
   ],
   "metadata": {}
  },
  {
   "cell_type": "code",
   "execution_count": 14,
   "source": [
    "# 코드 효율성 추가\r\n",
    "a, b = map(int, input(\"두개의 int숫자 입력\").split())\r\n",
    "\r\n",
    "print(\"{}, {} 두 수의 합 = {}\".format(a, b, a+b))"
   ],
   "outputs": [
    {
     "output_type": "stream",
     "name": "stdout",
     "text": [
      "5, 8 두 수의 합 = 13\n"
     ]
    }
   ],
   "metadata": {}
  },
  {
   "cell_type": "markdown",
   "source": [
    "# (문제) 화면에 Hello World 문자열을 출력하세요."
   ],
   "metadata": {}
  },
  {
   "cell_type": "code",
   "execution_count": 15,
   "source": [
    "print(\"Hello World\")"
   ],
   "outputs": [
    {
     "output_type": "stream",
     "name": "stdout",
     "text": [
      "Hello World\n"
     ]
    }
   ],
   "metadata": {}
  },
  {
   "cell_type": "markdown",
   "source": [
    "# 화면에 Mary's cosmetics을 출력하세요. (중간에 '가 있음에 주의하세요)"
   ],
   "metadata": {}
  },
  {
   "cell_type": "code",
   "execution_count": 16,
   "source": [
    "print(\"Mary's cosmetics\")"
   ],
   "outputs": [
    {
     "output_type": "stream",
     "name": "stdout",
     "text": [
      "Mary's cosmetics\n"
     ]
    }
   ],
   "metadata": {}
  },
  {
   "cell_type": "markdown",
   "source": [
    "# (문제) 아래 문장을 출력하세요. (중간에 \"가 있음에 주의하세요.)\r\n",
    "신씨가 소리질렀다. \"도둑이야\"."
   ],
   "metadata": {}
  },
  {
   "cell_type": "code",
   "execution_count": 17,
   "source": [
    "print('신씨가 소리질렀다. \"도둑이야\".')"
   ],
   "outputs": [
    {
     "output_type": "stream",
     "name": "stdout",
     "text": [
      "신씨가 소리질렀다. \"도둑이야\".\n"
     ]
    }
   ],
   "metadata": {}
  },
  {
   "cell_type": "markdown",
   "source": [
    "# (문제) 화면에 \"C:\\Windows\"를 출력하세요."
   ],
   "metadata": {}
  },
  {
   "cell_type": "code",
   "execution_count": 18,
   "source": [
    "print('\"C:\\Windows\"')"
   ],
   "outputs": [
    {
     "output_type": "stream",
     "name": "stdout",
     "text": [
      "\"C:\\Windows\"\n"
     ]
    }
   ],
   "metadata": {}
  },
  {
   "cell_type": "markdown",
   "source": [
    "# (문제) print() 함수를 사용하여 다음과 같이 출력하세요.\r\n",
    "    naver/kakao/sk/samsung"
   ],
   "metadata": {}
  },
  {
   "cell_type": "code",
   "execution_count": 19,
   "source": [
    "print(\"naver/kakao/sk/samsung\")"
   ],
   "outputs": [
    {
     "output_type": "stream",
     "name": "stdout",
     "text": [
      "naver/kakao/sk/samsung\n"
     ]
    }
   ],
   "metadata": {}
  },
  {
   "cell_type": "markdown",
   "source": [
    "# (문제) 5/3의 결과를 화면에 출력하세요."
   ],
   "metadata": {}
  },
  {
   "cell_type": "code",
   "execution_count": 20,
   "source": [
    "print(5/3)"
   ],
   "outputs": [
    {
     "output_type": "stream",
     "name": "stdout",
     "text": [
      "1.6666666666666667\n"
     ]
    }
   ],
   "metadata": {}
  },
  {
   "cell_type": "markdown",
   "source": [
    "# (문제) 삼성전자라는 변수로 50,000원을 바인딩해보세요. 삼성전자 주식 10주를 보유하고 있을 때 총 평가금액을 출력하세요."
   ],
   "metadata": {}
  },
  {
   "cell_type": "code",
   "execution_count": 21,
   "source": [
    "삼성전자 = 50000\r\n",
    "print(\"총평가금 = {}\".format(삼성전자*10))"
   ],
   "outputs": [
    {
     "output_type": "stream",
     "name": "stdout",
     "text": [
      "총평가금 = 500000\n"
     ]
    }
   ],
   "metadata": {}
  },
  {
   "cell_type": "markdown",
   "source": [
    "# (문제) 아래 변수에 바인딩된 값의 타입을 판별해보세요."
   ],
   "metadata": {}
  },
  {
   "cell_type": "code",
   "execution_count": 22,
   "source": [
    "a = \"132\"\r\n",
    "print(type(a))"
   ],
   "outputs": [
    {
     "output_type": "stream",
     "name": "stdout",
     "text": [
      "<class 'str'>\n"
     ]
    }
   ],
   "metadata": {}
  },
  {
   "cell_type": "markdown",
   "source": [
    "# (문제) 문자열 '720'를 정수형으로 변환해보세요."
   ],
   "metadata": {}
  },
  {
   "cell_type": "code",
   "execution_count": 23,
   "source": [
    "a = \"720\"\r\n",
    "print(type(int(a)))"
   ],
   "outputs": [
    {
     "output_type": "stream",
     "name": "stdout",
     "text": [
      "<class 'int'>\n"
     ]
    }
   ],
   "metadata": {}
  },
  {
   "cell_type": "markdown",
   "source": [
    "# (문제)정수 100을 문자열 '100'으로 변환해보세요.\r\n",
    "    - num = 100"
   ],
   "metadata": {}
  },
  {
   "cell_type": "code",
   "execution_count": 25,
   "source": [
    "num = 100\r\n",
    "print(type(str(num)))"
   ],
   "outputs": [
    {
     "output_type": "stream",
     "name": "stdout",
     "text": [
      "<class 'str'>\n"
     ]
    }
   ],
   "metadata": {}
  },
  {
   "cell_type": "markdown",
   "source": [
    "# (문제) 에이컨이 월 48,584원에 무이자 36개월의 조건으로 홈쇼핑에서 판매되고 있습니다. 총 금액은 계산한 후 이를 화면에 출력해보세요. (변수사용하기)"
   ],
   "metadata": {}
  },
  {
   "cell_type": "code",
   "execution_count": 26,
   "source": [
    "m_price = 48584\r\n",
    "print(\"36개월 합산 총금액 = {}\".format(m_price*36))"
   ],
   "outputs": [
    {
     "output_type": "stream",
     "name": "stdout",
     "text": [
      "36개월 합산 총금액 = 1749024\n"
     ]
    }
   ],
   "metadata": {}
  },
  {
   "cell_type": "markdown",
   "source": [
    "# (문제) letters가 바인딩하는 문자열에서 첫번째와 세번째 문자를 출력하세요.\r\n",
    "    - >> letters = 'python'"
   ],
   "metadata": {}
  },
  {
   "cell_type": "code",
   "execution_count": 31,
   "source": [
    "letters = \"python\"\r\n",
    "print(letters[0], letters[2])"
   ],
   "outputs": [
    {
     "output_type": "stream",
     "name": "stdout",
     "text": [
      "p t\n"
     ]
    }
   ],
   "metadata": {}
  },
  {
   "cell_type": "markdown",
   "source": [
    "# (문제) 자동차 번호가 다음과 같을 때 뒤에 4자리만 출력하세요.\r\n",
    ">> license_plate = \"24가 2210\""
   ],
   "metadata": {}
  },
  {
   "cell_type": "code",
   "execution_count": 37,
   "source": [
    "license_plate = \"24가 2210\"\r\n",
    "print(license_plate[-4:])"
   ],
   "outputs": [
    {
     "output_type": "stream",
     "name": "stdout",
     "text": [
      "2210\n"
     ]
    }
   ],
   "metadata": {}
  },
  {
   "cell_type": "markdown",
   "source": [
    "# (문제) 아래의 문자열에서 '홀' 만 출력하세요.\r\n",
    ">> string = \"홀짝홀짝홀짝\""
   ],
   "metadata": {}
  },
  {
   "cell_type": "code",
   "execution_count": 44,
   "source": [
    "string = \"홀짝홀짝홀짝\"\r\n",
    "print(string[::2])"
   ],
   "outputs": [
    {
     "output_type": "stream",
     "name": "stdout",
     "text": [
      "홀홀홀\n"
     ]
    }
   ],
   "metadata": {}
  },
  {
   "cell_type": "markdown",
   "source": [
    "# (문제) 문자열을 거꾸로 뒤집어 출력하세요.\r\n",
    ">> string = \"PYTHON\""
   ],
   "metadata": {}
  },
  {
   "cell_type": "code",
   "execution_count": 45,
   "source": [
    "string = \"PYTHON\"\r\n",
    "print(string[::-1])"
   ],
   "outputs": [
    {
     "output_type": "stream",
     "name": "stdout",
     "text": [
      "NOHTYP\n"
     ]
    }
   ],
   "metadata": {}
  },
  {
   "cell_type": "markdown",
   "source": [
    "# (문제) 아래의 전화번호에서 하이푼 ('-')을 제거하고 출력하세요.\r\n",
    ">> phone_number = \"010-1111-2222\""
   ],
   "metadata": {}
  },
  {
   "cell_type": "code",
   "execution_count": 46,
   "source": [
    "phone_number = \"010-1111-2222\"\r\n",
    "print(phone_number.replace(\"-\",\" \"))"
   ],
   "outputs": [
    {
     "output_type": "stream",
     "name": "stdout",
     "text": [
      "010 1111 2222\n"
     ]
    }
   ],
   "metadata": {}
  },
  {
   "cell_type": "markdown",
   "source": [
    "# (문제) 전화번호를 아래와 같이 모두 붙여 출력하세요"
   ],
   "metadata": {}
  },
  {
   "cell_type": "code",
   "execution_count": 47,
   "source": [
    "phone_number = \"010-1111-2222\"\r\n",
    "print(phone_number.replace(\"-\",\"\"))"
   ],
   "outputs": [
    {
     "output_type": "stream",
     "name": "stdout",
     "text": [
      "01011112222\n"
     ]
    }
   ],
   "metadata": {}
  },
  {
   "cell_type": "markdown",
   "source": [
    "# url 에 저장된 웹 페이지 주소에서 도메인을 출력하세요.\r\n",
    ">> url = \"http://sharebook.kr\""
   ],
   "metadata": {}
  },
  {
   "cell_type": "code",
   "execution_count": 53,
   "source": [
    "url = \"http://sharebook.kr\"\r\n",
    "print(url.split(\".\")[1])"
   ],
   "outputs": [
    {
     "output_type": "stream",
     "name": "stdout",
     "text": [
      "kr\n"
     ]
    }
   ],
   "metadata": {}
  },
  {
   "cell_type": "markdown",
   "source": [
    "# (문제) 아래 코드의 실행 결과를 예상해보세요.\r\n",
    ">> lang = 'python'\r\n",
    ">> lang[0] = 'P'\r\n",
    ">> print(lang)"
   ],
   "metadata": {}
  },
  {
   "cell_type": "code",
   "execution_count": 56,
   "source": [
    "lang = 'python'\r\n",
    "lang[0] = 'P'\r\n",
    "print(lang)"
   ],
   "outputs": [
    {
     "output_type": "error",
     "ename": "TypeError",
     "evalue": "'str' object does not support item assignment",
     "traceback": [
      "\u001b[1;31m---------------------------------------------------------------------------\u001b[0m",
      "\u001b[1;31mTypeError\u001b[0m                                 Traceback (most recent call last)",
      "\u001b[1;32m<ipython-input-56-1fc4a37fabf2>\u001b[0m in \u001b[0;36m<module>\u001b[1;34m\u001b[0m\n\u001b[0;32m      1\u001b[0m \u001b[0mlang\u001b[0m \u001b[1;33m=\u001b[0m \u001b[1;34m'python'\u001b[0m\u001b[1;33m\u001b[0m\u001b[1;33m\u001b[0m\u001b[0m\n\u001b[1;32m----> 2\u001b[1;33m \u001b[0mlang\u001b[0m\u001b[1;33m[\u001b[0m\u001b[1;36m0\u001b[0m\u001b[1;33m]\u001b[0m \u001b[1;33m=\u001b[0m \u001b[1;34m'P'\u001b[0m\u001b[1;33m\u001b[0m\u001b[1;33m\u001b[0m\u001b[0m\n\u001b[0m",
      "\u001b[1;31mTypeError\u001b[0m: 'str' object does not support item assignment"
     ]
    }
   ],
   "metadata": {}
  },
  {
   "cell_type": "markdown",
   "source": [],
   "metadata": {}
  },
  {
   "cell_type": "markdown",
   "source": [
    "# (문제) 아래 문자열에서 소문자 'a'를 대문자 'A'로 변경하세요.\r\n",
    ">> string = 'abcdfe2a354a32a'"
   ],
   "metadata": {}
  },
  {
   "cell_type": "code",
   "execution_count": 57,
   "source": [
    "string = 'abcdfe2a354a32a'\r\n",
    "print(string.replace(\"a\",\"A\"))"
   ],
   "outputs": [
    {
     "output_type": "stream",
     "name": "stdout",
     "text": [
      "Abcdfe2A354A32A\n"
     ]
    }
   ],
   "metadata": {}
  },
  {
   "cell_type": "markdown",
   "source": [
    "# (문제) 문자열 곱하기\r\n",
    "    > 화면에 '-'를 80개 출력하세요."
   ],
   "metadata": {}
  },
  {
   "cell_type": "code",
   "execution_count": 58,
   "source": [
    "print(\"-\" * 80)"
   ],
   "outputs": [
    {
     "output_type": "stream",
     "name": "stdout",
     "text": [
      "--------------------------------------------------------------------------------\n"
     ]
    }
   ],
   "metadata": {}
  },
  {
   "cell_type": "markdown",
   "source": [
    "# (문제) 변수에 다음과 같은 문자열이 바인딩되어 있습니다.\r\n",
    "    >>> t1 = 'python'\r\n",
    "    >>> t2 = 'java'\r\n",
    "    변수에 문자열 더하기와 문자열 곱하기를 사용해서 아래와 같이 출력해보세요.\r\n",
    "\r\n",
    "    실행 예:\r\n",
    "    python java python java python java python java"
   ],
   "metadata": {}
  },
  {
   "cell_type": "code",
   "execution_count": 59,
   "source": [
    "t1 = \"python\"\r\n",
    "t2 = \"java\"\r\n",
    "\r\n",
    "print((t1 + \" \"+ t2 + \" \") * 4)"
   ],
   "outputs": [
    {
     "output_type": "stream",
     "name": "stdout",
     "text": [
      "python java python java python java python java \n"
     ]
    }
   ],
   "metadata": {}
  },
  {
   "cell_type": "markdown",
   "source": [
    "# (문제) 변수에 다음과 같이 문자열과 정수가 바인딩되어 있을 때 % formatting을 사용해서 다음과 같이 출력해보세요.\r\n",
    "    > name1 = \"김민수\" \r\n",
    "    > age1 = 10\r\n",
    "    > name2 = \"이철희\"\r\n",
    "    > age2 = 13\r\n",
    "\r\n",
    "    > 이름: 김민수 나이: 10\r\n",
    "    > 이름: 이철희 나이: 13"
   ],
   "metadata": {}
  },
  {
   "cell_type": "code",
   "execution_count": 60,
   "source": [
    "name1 = \"김민수\" \r\n",
    "age1 = 10\r\n",
    "name2 = \"이철희\"\r\n",
    "age2 = 13\r\n",
    "\r\n",
    "print(f\"이름: {name1} 나이: {age1}\")\r\n",
    "print(f\"이름: {name2} 나이: {age2}\")"
   ],
   "outputs": [
    {
     "output_type": "stream",
     "name": "stdout",
     "text": [
      "이름: 김민수 나이: 10\n",
      "이름: 이철희 나이: 13\n"
     ]
    }
   ],
   "metadata": {}
  },
  {
   "cell_type": "markdown",
   "source": [
    "# (문제) 삼성전자의 상장주식수가 다음과 같습니다. 컴마를 제거한 후 이를 정수 타입으로 변환해보세요.\r\n",
    "    > 상장주식수 = \"5,969,782,550\""
   ],
   "metadata": {}
  },
  {
   "cell_type": "code",
   "execution_count": 62,
   "source": [
    "상장주식수 = \"5,969,782,550\"\r\n",
    "상장주식수 = int(상장주식수.replace(\",\",\"\"))\r\n",
    "print(상장주식수, type(상장주식수))"
   ],
   "outputs": [
    {
     "output_type": "stream",
     "name": "stdout",
     "text": [
      "5969782550 <class 'int'>\n"
     ]
    }
   ],
   "metadata": {}
  },
  {
   "cell_type": "markdown",
   "source": [
    "# (문제) 다음과 같은 문자열에서 '2020/03'만 출력하세요.\r\n",
    "    > 분기 = \"2020/03(E) (IFRS연결)\""
   ],
   "metadata": {}
  },
  {
   "cell_type": "code",
   "execution_count": 63,
   "source": [
    "분기 = \"2020/03(E) (IFRS연결)\"\r\n",
    "print(분기.split(\"(\")[0])"
   ],
   "outputs": [
    {
     "output_type": "stream",
     "name": "stdout",
     "text": [
      "2020/03\n"
     ]
    }
   ],
   "metadata": {}
  },
  {
   "cell_type": "markdown",
   "source": [
    "# (문제) 문자열의 좌우의 공백이 있을 때 이를 제거해보세요.\r\n",
    "    > data = \"   삼성전자    \""
   ],
   "metadata": {}
  },
  {
   "cell_type": "code",
   "execution_count": 66,
   "source": [
    "data = \"   삼성전자    \"\r\n",
    "print(data.replace(\" \",\"\"))"
   ],
   "outputs": [
    {
     "output_type": "stream",
     "name": "stdout",
     "text": [
      "삼성전자\n"
     ]
    }
   ],
   "metadata": {}
  },
  {
   "cell_type": "markdown",
   "source": [
    "# (문제) 다음과 같은 문자열이 있을 때 이를 대문자 BTC_KRW로 변경하세요.\r\n",
    "    > ticker = \"btc_krw\""
   ],
   "metadata": {}
  },
  {
   "cell_type": "code",
   "execution_count": 67,
   "source": [
    "ticker = \"btc_krw\"\r\n",
    "print(ticker.upper())"
   ],
   "outputs": [
    {
     "output_type": "stream",
     "name": "stdout",
     "text": [
      "BTC_KRW\n"
     ]
    }
   ],
   "metadata": {}
  },
  {
   "cell_type": "markdown",
   "source": [
    "# (문제) capitalize 메서드\r\n",
    "    - 문자열 'hello'가 있을 때 이를 'Hello'로 변경해보세요."
   ],
   "metadata": {}
  },
  {
   "cell_type": "code",
   "execution_count": 68,
   "source": [
    "print(\"hello\".capitalize())"
   ],
   "outputs": [
    {
     "output_type": "stream",
     "name": "stdout",
     "text": [
      "Hello\n"
     ]
    }
   ],
   "metadata": {}
  },
  {
   "cell_type": "markdown",
   "source": [
    "# (문제)"
   ],
   "metadata": {}
  }
 ],
 "metadata": {
  "orig_nbformat": 4,
  "language_info": {
   "name": "python",
   "version": "3.8.10",
   "mimetype": "text/x-python",
   "codemirror_mode": {
    "name": "ipython",
    "version": 3
   },
   "pygments_lexer": "ipython3",
   "nbconvert_exporter": "python",
   "file_extension": ".py"
  },
  "kernelspec": {
   "name": "python3",
   "display_name": "Python 3.8.10 64-bit ('btfsop': conda)"
  },
  "interpreter": {
   "hash": "795bef2181d8c1d673d637ebabbfa46c3363c718d3652ae25a9a4fec543c87a1"
  }
 },
 "nbformat": 4,
 "nbformat_minor": 2
}